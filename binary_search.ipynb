{
  "nbformat": 4,
  "nbformat_minor": 0,
  "metadata": {
    "colab": {
      "name": "binary_search",
      "provenance": [],
      "authorship_tag": "ABX9TyPN0rx1bReVdcSU6a82nraR",
      "include_colab_link": true
    },
    "kernelspec": {
      "name": "python3",
      "display_name": "Python 3"
    },
    "language_info": {
      "name": "python"
    }
  },
  "cells": [
    {
      "cell_type": "markdown",
      "metadata": {
        "id": "view-in-github",
        "colab_type": "text"
      },
      "source": [
        "<a href=\"https://colab.research.google.com/github/EmanSalah2000/binary_search/blob/main/binary_search.ipynb\" target=\"_parent\"><img src=\"https://colab.research.google.com/assets/colab-badge.svg\" alt=\"Open In Colab\"/></a>"
      ]
    },
    {
      "cell_type": "code",
      "metadata": {
        "id": "jU0_VbpkuA0z"
      },
      "source": [
        "import math as ma\n",
        "def binarysearch(list , item):\n",
        "  low=0\n",
        "  high=len(list)-1\n",
        "  # print(int((low+high)/2))\n",
        "  while low<=high:\n",
        "    mid=int((low+high)/2)\n",
        "    #print(mid, list[mid])\n",
        "    if(item==list[mid]):\n",
        "      return mid , list[mid]\n",
        "    elif(item> list[mid]):\n",
        "      low=mid+1\n",
        "    elif (item<list[mid]):\n",
        "      high=mid-1\n",
        "  return None  , None\n"
      ],
      "execution_count": null,
      "outputs": []
    },
    {
      "cell_type": "code",
      "metadata": {
        "colab": {
          "base_uri": "https://localhost:8080/"
        },
        "id": "xx3CKGitu0Up",
        "outputId": "ffe407c7-2be4-4d28-b426-8a87f1537fc7"
      },
      "source": [
        "list=[1,5,9,10,20]\n",
        "binarysearch(list,10)"
      ],
      "execution_count": null,
      "outputs": [
        {
          "output_type": "execute_result",
          "data": {
            "text/plain": [
              "(3, 10)"
            ]
          },
          "metadata": {},
          "execution_count": 30
        }
      ]
    }
  ]
}